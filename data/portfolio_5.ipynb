{
 "cells": [
  {
   "cell_type": "code",
   "execution_count": 176,
   "metadata": {},
   "outputs": [],
   "source": [
    "import altair as alt\n",
    "import pandas as pd\n",
    "import json"
   ]
  },
  {
   "cell_type": "code",
   "execution_count": 177,
   "metadata": {},
   "outputs": [],
   "source": [
    "targets = ['target_race', \n",
    "               'target_religion', \n",
    "               'target_origin', \n",
    "               'target_gender', \n",
    "               'target_sexuality',\n",
    "               'target_age']"
   ]
  },
  {
   "cell_type": "code",
   "execution_count": 178,
   "metadata": {},
   "outputs": [],
   "source": [
    "def get_percentages(dataset):\n",
    "\n",
    "    target_percentages = {target: None  for target in targets}\n",
    "    \n",
    "    for target_group in dataset:\n",
    "\n",
    "        current_group = list(dataset[target_group])\n",
    "        sum_of_data_points = sum(current_group)\n",
    "        \n",
    "        if sum_of_data_points != 0:\n",
    "            \n",
    "            percentages = [(cluster / sum_of_data_points) * 100 for cluster in current_group]\n",
    "            target_percentages[target_group] = percentages\n",
    "\n",
    "    return target_percentages"
   ]
  },
  {
   "cell_type": "markdown",
   "metadata": {},
   "source": [
    "## single pie chart"
   ]
  },
  {
   "cell_type": "code",
   "execution_count": 179,
   "metadata": {},
   "outputs": [],
   "source": [
    "dataset = pd.read_json('data_viz/clusters.json')\n",
    "num_clusters = range(8)"
   ]
  },
  {
   "cell_type": "code",
   "execution_count": 180,
   "metadata": {},
   "outputs": [],
   "source": [
    "target_percentages = get_percentages(dataset)"
   ]
  },
  {
   "cell_type": "code",
   "execution_count": 181,
   "metadata": {},
   "outputs": [],
   "source": [
    "# for now we're just going to use the first target group\n",
    "single = target_percentages['target_race']\n",
    "theta = single\n",
    "color = num_clusters\n",
    "single = pd.DataFrame({\"theta\":theta, \"color\":color})"
   ]
  },
  {
   "cell_type": "code",
   "execution_count": 182,
   "metadata": {},
   "outputs": [
    {
     "data": {
      "text/html": [
       "\n",
       "<style>\n",
       "  #altair-viz-18155562618a4d08aaf2e6b431d12158.vega-embed {\n",
       "    width: 100%;\n",
       "    display: flex;\n",
       "  }\n",
       "\n",
       "  #altair-viz-18155562618a4d08aaf2e6b431d12158.vega-embed details,\n",
       "  #altair-viz-18155562618a4d08aaf2e6b431d12158.vega-embed details summary {\n",
       "    position: relative;\n",
       "  }\n",
       "</style>\n",
       "<div id=\"altair-viz-18155562618a4d08aaf2e6b431d12158\"></div>\n",
       "<script type=\"text/javascript\">\n",
       "  var VEGA_DEBUG = (typeof VEGA_DEBUG == \"undefined\") ? {} : VEGA_DEBUG;\n",
       "  (function(spec, embedOpt){\n",
       "    let outputDiv = document.currentScript.previousElementSibling;\n",
       "    if (outputDiv.id !== \"altair-viz-18155562618a4d08aaf2e6b431d12158\") {\n",
       "      outputDiv = document.getElementById(\"altair-viz-18155562618a4d08aaf2e6b431d12158\");\n",
       "    }\n",
       "    const paths = {\n",
       "      \"vega\": \"https://cdn.jsdelivr.net/npm/vega@5?noext\",\n",
       "      \"vega-lib\": \"https://cdn.jsdelivr.net/npm/vega-lib?noext\",\n",
       "      \"vega-lite\": \"https://cdn.jsdelivr.net/npm/vega-lite@5.16.3?noext\",\n",
       "      \"vega-embed\": \"https://cdn.jsdelivr.net/npm/vega-embed@6?noext\",\n",
       "    };\n",
       "\n",
       "    function maybeLoadScript(lib, version) {\n",
       "      var key = `${lib.replace(\"-\", \"\")}_version`;\n",
       "      return (VEGA_DEBUG[key] == version) ?\n",
       "        Promise.resolve(paths[lib]) :\n",
       "        new Promise(function(resolve, reject) {\n",
       "          var s = document.createElement('script');\n",
       "          document.getElementsByTagName(\"head\")[0].appendChild(s);\n",
       "          s.async = true;\n",
       "          s.onload = () => {\n",
       "            VEGA_DEBUG[key] = version;\n",
       "            return resolve(paths[lib]);\n",
       "          };\n",
       "          s.onerror = () => reject(`Error loading script: ${paths[lib]}`);\n",
       "          s.src = paths[lib];\n",
       "        });\n",
       "    }\n",
       "\n",
       "    function showError(err) {\n",
       "      outputDiv.innerHTML = `<div class=\"error\" style=\"color:red;\">${err}</div>`;\n",
       "      throw err;\n",
       "    }\n",
       "\n",
       "    function displayChart(vegaEmbed) {\n",
       "      vegaEmbed(outputDiv, spec, embedOpt)\n",
       "        .catch(err => showError(`Javascript Error: ${err.message}<br>This usually means there's a typo in your chart specification. See the javascript console for the full traceback.`));\n",
       "    }\n",
       "\n",
       "    if(typeof define === \"function\" && define.amd) {\n",
       "      requirejs.config({paths});\n",
       "      require([\"vega-embed\"], displayChart, err => showError(`Error loading script: ${err.message}`));\n",
       "    } else {\n",
       "      maybeLoadScript(\"vega\", \"5\")\n",
       "        .then(() => maybeLoadScript(\"vega-lite\", \"5.16.3\"))\n",
       "        .then(() => maybeLoadScript(\"vega-embed\", \"6\"))\n",
       "        .catch(showError)\n",
       "        .then(() => displayChart(vegaEmbed));\n",
       "    }\n",
       "  })({\"config\": {\"view\": {\"continuousWidth\": 300, \"continuousHeight\": 300}}, \"data\": {\"name\": \"data-217e936e6a5847fa6b702764a6dd11c9\"}, \"mark\": {\"type\": \"arc\"}, \"encoding\": {\"color\": {\"field\": \"color\", \"title\": \"cluster\", \"type\": \"nominal\"}, \"order\": {\"field\": \"theta\"}, \"theta\": {\"field\": \"theta\", \"stack\": true, \"type\": \"quantitative\"}}, \"height\": 150, \"title\": \"target_race\", \"width\": 150, \"$schema\": \"https://vega.github.io/schema/vega-lite/v5.16.3.json\", \"datasets\": {\"data-217e936e6a5847fa6b702764a6dd11c9\": [{\"theta\": 23.52941176470588, \"color\": 0}, {\"theta\": 19.11764705882353, \"color\": 1}, {\"theta\": 5.88235294117647, \"color\": 2}, {\"theta\": 19.11764705882353, \"color\": 3}, {\"theta\": 11.76470588235294, \"color\": 4}, {\"theta\": 5.88235294117647, \"color\": 5}, {\"theta\": 8.823529411764707, \"color\": 6}, {\"theta\": 5.88235294117647, \"color\": 7}]}}, {\"mode\": \"vega-lite\"});\n",
       "</script>"
      ],
      "text/plain": [
       "alt.Chart(...)"
      ]
     },
     "execution_count": 182,
     "metadata": {},
     "output_type": "execute_result"
    }
   ],
   "source": [
    "alt.Chart(single).mark_arc().encode(\n",
    "    theta=alt.Theta(field = 'theta', type = 'quantitative', stack = True),\n",
    "    color=alt.Color(field = 'color', type = 'nominal', title='cluster'),\n",
    "    order=alt.Order(field=\"theta\")\n",
    ").properties(\n",
    "        title = f'target_race',\n",
    "        width = 150,\n",
    "        height = 150\n",
    ")"
   ]
  },
  {
   "cell_type": "markdown",
   "metadata": {},
   "source": [
    "We have a simple pie chart. What if we want to see the percent values for each target group? <br>\n"
   ]
  },
  {
   "cell_type": "code",
   "execution_count": 183,
   "metadata": {},
   "outputs": [
    {
     "data": {
      "text/html": [
       "\n",
       "<style>\n",
       "  #altair-viz-56f8051d33c048e6890412706de41f3e.vega-embed {\n",
       "    width: 100%;\n",
       "    display: flex;\n",
       "  }\n",
       "\n",
       "  #altair-viz-56f8051d33c048e6890412706de41f3e.vega-embed details,\n",
       "  #altair-viz-56f8051d33c048e6890412706de41f3e.vega-embed details summary {\n",
       "    position: relative;\n",
       "  }\n",
       "</style>\n",
       "<div id=\"altair-viz-56f8051d33c048e6890412706de41f3e\"></div>\n",
       "<script type=\"text/javascript\">\n",
       "  var VEGA_DEBUG = (typeof VEGA_DEBUG == \"undefined\") ? {} : VEGA_DEBUG;\n",
       "  (function(spec, embedOpt){\n",
       "    let outputDiv = document.currentScript.previousElementSibling;\n",
       "    if (outputDiv.id !== \"altair-viz-56f8051d33c048e6890412706de41f3e\") {\n",
       "      outputDiv = document.getElementById(\"altair-viz-56f8051d33c048e6890412706de41f3e\");\n",
       "    }\n",
       "    const paths = {\n",
       "      \"vega\": \"https://cdn.jsdelivr.net/npm/vega@5?noext\",\n",
       "      \"vega-lib\": \"https://cdn.jsdelivr.net/npm/vega-lib?noext\",\n",
       "      \"vega-lite\": \"https://cdn.jsdelivr.net/npm/vega-lite@5.16.3?noext\",\n",
       "      \"vega-embed\": \"https://cdn.jsdelivr.net/npm/vega-embed@6?noext\",\n",
       "    };\n",
       "\n",
       "    function maybeLoadScript(lib, version) {\n",
       "      var key = `${lib.replace(\"-\", \"\")}_version`;\n",
       "      return (VEGA_DEBUG[key] == version) ?\n",
       "        Promise.resolve(paths[lib]) :\n",
       "        new Promise(function(resolve, reject) {\n",
       "          var s = document.createElement('script');\n",
       "          document.getElementsByTagName(\"head\")[0].appendChild(s);\n",
       "          s.async = true;\n",
       "          s.onload = () => {\n",
       "            VEGA_DEBUG[key] = version;\n",
       "            return resolve(paths[lib]);\n",
       "          };\n",
       "          s.onerror = () => reject(`Error loading script: ${paths[lib]}`);\n",
       "          s.src = paths[lib];\n",
       "        });\n",
       "    }\n",
       "\n",
       "    function showError(err) {\n",
       "      outputDiv.innerHTML = `<div class=\"error\" style=\"color:red;\">${err}</div>`;\n",
       "      throw err;\n",
       "    }\n",
       "\n",
       "    function displayChart(vegaEmbed) {\n",
       "      vegaEmbed(outputDiv, spec, embedOpt)\n",
       "        .catch(err => showError(`Javascript Error: ${err.message}<br>This usually means there's a typo in your chart specification. See the javascript console for the full traceback.`));\n",
       "    }\n",
       "\n",
       "    if(typeof define === \"function\" && define.amd) {\n",
       "      requirejs.config({paths});\n",
       "      require([\"vega-embed\"], displayChart, err => showError(`Error loading script: ${err.message}`));\n",
       "    } else {\n",
       "      maybeLoadScript(\"vega\", \"5\")\n",
       "        .then(() => maybeLoadScript(\"vega-lite\", \"5.16.3\"))\n",
       "        .then(() => maybeLoadScript(\"vega-embed\", \"6\"))\n",
       "        .catch(showError)\n",
       "        .then(() => displayChart(vegaEmbed));\n",
       "    }\n",
       "  })({\"config\": {\"view\": {\"continuousWidth\": 300, \"continuousHeight\": 300}}, \"layer\": [{\"mark\": {\"type\": \"arc\", \"outerRadius\": 100}, \"encoding\": {\"color\": {\"field\": \"color\", \"title\": \"cluster\", \"type\": \"nominal\"}, \"order\": {\"field\": \"theta\"}, \"theta\": {\"field\": \"theta\", \"stack\": true, \"type\": \"quantitative\"}}, \"title\": \"target_race\"}, {\"mark\": {\"type\": \"text\", \"radius\": 110}, \"encoding\": {\"color\": {\"condition\": {\"test\": \"(datum.theta > 0)\", \"value\": \"black\"}, \"value\": null}, \"text\": {\"field\": \"theta\", \"format\": \".1f\", \"type\": \"quantitative\"}, \"theta\": {\"field\": \"theta\", \"stack\": true, \"type\": \"quantitative\"}}, \"title\": \"target_race\"}], \"data\": {\"name\": \"data-217e936e6a5847fa6b702764a6dd11c9\"}, \"height\": 250, \"width\": 250, \"$schema\": \"https://vega.github.io/schema/vega-lite/v5.16.3.json\", \"datasets\": {\"data-217e936e6a5847fa6b702764a6dd11c9\": [{\"theta\": 23.52941176470588, \"color\": 0}, {\"theta\": 19.11764705882353, \"color\": 1}, {\"theta\": 5.88235294117647, \"color\": 2}, {\"theta\": 19.11764705882353, \"color\": 3}, {\"theta\": 11.76470588235294, \"color\": 4}, {\"theta\": 5.88235294117647, \"color\": 5}, {\"theta\": 8.823529411764707, \"color\": 6}, {\"theta\": 5.88235294117647, \"color\": 7}]}}, {\"mode\": \"vega-lite\"});\n",
       "</script>"
      ],
      "text/plain": [
       "alt.LayerChart(...)"
      ]
     },
     "execution_count": 183,
     "metadata": {},
     "output_type": "execute_result"
    }
   ],
   "source": [
    "# base chart we previously made\n",
    "base = alt.Chart(single).mark_arc().encode(\n",
    "    theta=alt.Theta(field = 'theta', type = 'quantitative', stack = True),\n",
    "    color=alt.Color(field = 'color', type = 'nominal', title='cluster')\n",
    ").properties(\n",
    "        title = f'target_race',\n",
    "        width = 250,\n",
    "        height = 250\n",
    "    )\n",
    "\n",
    "pie = base.mark_arc(outerRadius=100).encode(order=alt.Order(field=\"theta\"))\n",
    "\n",
    "# mark text will allow us to display the percent values\n",
    "text = base.mark_text(radius = 110).encode(\n",
    "\n",
    "    # we just need 1 decimal placae\n",
    "    text=alt.Text('theta:Q', format='.1f'),\n",
    "\n",
    "    # show text when theta > 0\n",
    "    color=alt.condition(\n",
    "        alt.datum.theta > 0,\n",
    "        alt.value(\"black\"),\n",
    "        alt.value(None)\n",
    "    )\n",
    ")\n",
    "pie + text"
   ]
  },
  {
   "cell_type": "markdown",
   "metadata": {},
   "source": [
    "Now what if we wanted to display a pie chart for every target group <br>\n",
    "We will use repeat()"
   ]
  },
  {
   "cell_type": "code",
   "execution_count": 184,
   "metadata": {},
   "outputs": [],
   "source": [
    "target_percentages = get_percentages(dataset)"
   ]
  },
  {
   "cell_type": "code",
   "execution_count": 185,
   "metadata": {},
   "outputs": [],
   "source": [
    "charts = []\n",
    "\n",
    "for target in target_percentages:\n",
    "\n",
    "    single = target_percentages[target]\n",
    "    theta = single\n",
    "    color = num_clusters\n",
    "    single = pd.DataFrame({\"theta\":theta, \"color\":color})\n",
    "\n",
    "    # base chart we previously made\n",
    "    base = alt.Chart(single).mark_arc().encode(\n",
    "        theta=alt.Theta(field = 'theta', type = 'quantitative', stack = True),\n",
    "        color=alt.Color(field = 'color', type = 'nominal', title='Cluster')\n",
    "    )\n",
    "\n",
    "    pie = base.mark_arc(outerRadius=100).encode(\n",
    "        order = alt.Order(field=\"theta\")\n",
    "        ).properties(\n",
    "        title = f'{target}',\n",
    "        width = 100,\n",
    "        height = 100\n",
    "    )\n",
    "\n",
    "    # mark text will allow us to display the percent values\n",
    "    text = base.mark_text(radius = 110).encode(\n",
    "\n",
    "        # we just need 1 decimal placae\n",
    "        text=alt.Text('theta:Q', format='.1f'),\n",
    "\n",
    "        # show text when theta > 0\n",
    "        color=alt.condition(\n",
    "            alt.datum.theta > 0,\n",
    "            alt.value(\"black\"),\n",
    "            alt.value(None)\n",
    "        )\n",
    "    )\n",
    "    pie.configure_legend(labelFontSize=18)\n",
    "    \n",
    "    charts.append(pie + text)"
   ]
  },
  {
   "cell_type": "code",
   "execution_count": 186,
   "metadata": {},
   "outputs": [
    {
     "data": {
      "text/html": [
       "\n",
       "<style>\n",
       "  #altair-viz-5cb342669a5242c1ad298804b3fc6078.vega-embed {\n",
       "    width: 100%;\n",
       "    display: flex;\n",
       "  }\n",
       "\n",
       "  #altair-viz-5cb342669a5242c1ad298804b3fc6078.vega-embed details,\n",
       "  #altair-viz-5cb342669a5242c1ad298804b3fc6078.vega-embed details summary {\n",
       "    position: relative;\n",
       "  }\n",
       "</style>\n",
       "<div id=\"altair-viz-5cb342669a5242c1ad298804b3fc6078\"></div>\n",
       "<script type=\"text/javascript\">\n",
       "  var VEGA_DEBUG = (typeof VEGA_DEBUG == \"undefined\") ? {} : VEGA_DEBUG;\n",
       "  (function(spec, embedOpt){\n",
       "    let outputDiv = document.currentScript.previousElementSibling;\n",
       "    if (outputDiv.id !== \"altair-viz-5cb342669a5242c1ad298804b3fc6078\") {\n",
       "      outputDiv = document.getElementById(\"altair-viz-5cb342669a5242c1ad298804b3fc6078\");\n",
       "    }\n",
       "    const paths = {\n",
       "      \"vega\": \"https://cdn.jsdelivr.net/npm/vega@5?noext\",\n",
       "      \"vega-lib\": \"https://cdn.jsdelivr.net/npm/vega-lib?noext\",\n",
       "      \"vega-lite\": \"https://cdn.jsdelivr.net/npm/vega-lite@5.16.3?noext\",\n",
       "      \"vega-embed\": \"https://cdn.jsdelivr.net/npm/vega-embed@6?noext\",\n",
       "    };\n",
       "\n",
       "    function maybeLoadScript(lib, version) {\n",
       "      var key = `${lib.replace(\"-\", \"\")}_version`;\n",
       "      return (VEGA_DEBUG[key] == version) ?\n",
       "        Promise.resolve(paths[lib]) :\n",
       "        new Promise(function(resolve, reject) {\n",
       "          var s = document.createElement('script');\n",
       "          document.getElementsByTagName(\"head\")[0].appendChild(s);\n",
       "          s.async = true;\n",
       "          s.onload = () => {\n",
       "            VEGA_DEBUG[key] = version;\n",
       "            return resolve(paths[lib]);\n",
       "          };\n",
       "          s.onerror = () => reject(`Error loading script: ${paths[lib]}`);\n",
       "          s.src = paths[lib];\n",
       "        });\n",
       "    }\n",
       "\n",
       "    function showError(err) {\n",
       "      outputDiv.innerHTML = `<div class=\"error\" style=\"color:red;\">${err}</div>`;\n",
       "      throw err;\n",
       "    }\n",
       "\n",
       "    function displayChart(vegaEmbed) {\n",
       "      vegaEmbed(outputDiv, spec, embedOpt)\n",
       "        .catch(err => showError(`Javascript Error: ${err.message}<br>This usually means there's a typo in your chart specification. See the javascript console for the full traceback.`));\n",
       "    }\n",
       "\n",
       "    if(typeof define === \"function\" && define.amd) {\n",
       "      requirejs.config({paths});\n",
       "      require([\"vega-embed\"], displayChart, err => showError(`Error loading script: ${err.message}`));\n",
       "    } else {\n",
       "      maybeLoadScript(\"vega\", \"5\")\n",
       "        .then(() => maybeLoadScript(\"vega-lite\", \"5.16.3\"))\n",
       "        .then(() => maybeLoadScript(\"vega-embed\", \"6\"))\n",
       "        .catch(showError)\n",
       "        .then(() => displayChart(vegaEmbed));\n",
       "    }\n",
       "  })({\"config\": {\"view\": {\"continuousWidth\": 300, \"continuousHeight\": 300}}, \"vconcat\": [{\"hconcat\": [{\"layer\": [{\"mark\": {\"type\": \"arc\", \"outerRadius\": 100}, \"encoding\": {\"color\": {\"field\": \"color\", \"title\": \"Cluster\", \"type\": \"nominal\"}, \"order\": {\"field\": \"theta\"}, \"theta\": {\"field\": \"theta\", \"stack\": true, \"type\": \"quantitative\"}}, \"title\": \"target_race\"}, {\"mark\": {\"type\": \"text\", \"radius\": 110}, \"encoding\": {\"color\": {\"condition\": {\"test\": \"(datum.theta > 0)\", \"value\": \"black\"}, \"value\": null}, \"text\": {\"field\": \"theta\", \"format\": \".1f\", \"type\": \"quantitative\"}, \"theta\": {\"field\": \"theta\", \"stack\": true, \"type\": \"quantitative\"}}}], \"data\": {\"name\": \"data-217e936e6a5847fa6b702764a6dd11c9\"}, \"height\": 100, \"width\": 100}, {\"layer\": [{\"mark\": {\"type\": \"arc\", \"outerRadius\": 100}, \"encoding\": {\"color\": {\"field\": \"color\", \"title\": \"Cluster\", \"type\": \"nominal\"}, \"order\": {\"field\": \"theta\"}, \"theta\": {\"field\": \"theta\", \"stack\": true, \"type\": \"quantitative\"}}, \"title\": \"target_religion\"}, {\"mark\": {\"type\": \"text\", \"radius\": 110}, \"encoding\": {\"color\": {\"condition\": {\"test\": \"(datum.theta > 0)\", \"value\": \"black\"}, \"value\": null}, \"text\": {\"field\": \"theta\", \"format\": \".1f\", \"type\": \"quantitative\"}, \"theta\": {\"field\": \"theta\", \"stack\": true, \"type\": \"quantitative\"}}}], \"data\": {\"name\": \"data-07c0abc27718597310ee68c5ab33f7cc\"}, \"height\": 100, \"width\": 100}, {\"layer\": [{\"mark\": {\"type\": \"arc\", \"outerRadius\": 100}, \"encoding\": {\"color\": {\"field\": \"color\", \"title\": \"Cluster\", \"type\": \"nominal\"}, \"order\": {\"field\": \"theta\"}, \"theta\": {\"field\": \"theta\", \"stack\": true, \"type\": \"quantitative\"}}, \"title\": \"target_origin\"}, {\"mark\": {\"type\": \"text\", \"radius\": 110}, \"encoding\": {\"color\": {\"condition\": {\"test\": \"(datum.theta > 0)\", \"value\": \"black\"}, \"value\": null}, \"text\": {\"field\": \"theta\", \"format\": \".1f\", \"type\": \"quantitative\"}, \"theta\": {\"field\": \"theta\", \"stack\": true, \"type\": \"quantitative\"}}}], \"data\": {\"name\": \"data-a37d954752b7f17ab7e8cece84081124\"}, \"height\": 100, \"width\": 100}]}, {\"hconcat\": [{\"layer\": [{\"mark\": {\"type\": \"arc\", \"outerRadius\": 100}, \"encoding\": {\"color\": {\"field\": \"color\", \"title\": \"Cluster\", \"type\": \"nominal\"}, \"order\": {\"field\": \"theta\"}, \"theta\": {\"field\": \"theta\", \"stack\": true, \"type\": \"quantitative\"}}, \"title\": \"target_gender\"}, {\"mark\": {\"type\": \"text\", \"radius\": 110}, \"encoding\": {\"color\": {\"condition\": {\"test\": \"(datum.theta > 0)\", \"value\": \"black\"}, \"value\": null}, \"text\": {\"field\": \"theta\", \"format\": \".1f\", \"type\": \"quantitative\"}, \"theta\": {\"field\": \"theta\", \"stack\": true, \"type\": \"quantitative\"}}}], \"data\": {\"name\": \"data-d3bda7d5bdb9ed04ec6e72c1a5573494\"}, \"height\": 100, \"width\": 100}, {\"layer\": [{\"mark\": {\"type\": \"arc\", \"outerRadius\": 100}, \"encoding\": {\"color\": {\"field\": \"color\", \"title\": \"Cluster\", \"type\": \"nominal\"}, \"order\": {\"field\": \"theta\"}, \"theta\": {\"field\": \"theta\", \"stack\": true, \"type\": \"quantitative\"}}, \"title\": \"target_sexuality\"}, {\"mark\": {\"type\": \"text\", \"radius\": 110}, \"encoding\": {\"color\": {\"condition\": {\"test\": \"(datum.theta > 0)\", \"value\": \"black\"}, \"value\": null}, \"text\": {\"field\": \"theta\", \"format\": \".1f\", \"type\": \"quantitative\"}, \"theta\": {\"field\": \"theta\", \"stack\": true, \"type\": \"quantitative\"}}}], \"data\": {\"name\": \"data-19e2e20d1b8278c10448c2e347e94949\"}, \"height\": 100, \"width\": 100}, {\"layer\": [{\"mark\": {\"type\": \"arc\", \"outerRadius\": 100}, \"encoding\": {\"color\": {\"field\": \"color\", \"title\": \"Cluster\", \"type\": \"nominal\"}, \"order\": {\"field\": \"theta\"}, \"theta\": {\"field\": \"theta\", \"stack\": true, \"type\": \"quantitative\"}}, \"title\": \"target_age\"}, {\"mark\": {\"type\": \"text\", \"radius\": 110}, \"encoding\": {\"color\": {\"condition\": {\"test\": \"(datum.theta > 0)\", \"value\": \"black\"}, \"value\": null}, \"text\": {\"field\": \"theta\", \"format\": \".1f\", \"type\": \"quantitative\"}, \"theta\": {\"field\": \"theta\", \"stack\": true, \"type\": \"quantitative\"}}}], \"data\": {\"name\": \"data-7ac9d2c585496ff622b2b8f0ce4370dd\"}, \"height\": 100, \"width\": 100}]}], \"$schema\": \"https://vega.github.io/schema/vega-lite/v5.16.3.json\", \"datasets\": {\"data-217e936e6a5847fa6b702764a6dd11c9\": [{\"theta\": 23.52941176470588, \"color\": 0}, {\"theta\": 19.11764705882353, \"color\": 1}, {\"theta\": 5.88235294117647, \"color\": 2}, {\"theta\": 19.11764705882353, \"color\": 3}, {\"theta\": 11.76470588235294, \"color\": 4}, {\"theta\": 5.88235294117647, \"color\": 5}, {\"theta\": 8.823529411764707, \"color\": 6}, {\"theta\": 5.88235294117647, \"color\": 7}], \"data-07c0abc27718597310ee68c5ab33f7cc\": [{\"theta\": 11.11111111111111, \"color\": 0}, {\"theta\": 4.444444444444445, \"color\": 1}, {\"theta\": 11.11111111111111, \"color\": 2}, {\"theta\": 17.77777777777778, \"color\": 3}, {\"theta\": 8.88888888888889, \"color\": 4}, {\"theta\": 15.555555555555555, \"color\": 5}, {\"theta\": 24.444444444444443, \"color\": 6}, {\"theta\": 6.666666666666667, \"color\": 7}], \"data-a37d954752b7f17ab7e8cece84081124\": [{\"theta\": 21.951219512195124, \"color\": 0}, {\"theta\": 7.317073170731707, \"color\": 1}, {\"theta\": 9.75609756097561, \"color\": 2}, {\"theta\": 17.073170731707318, \"color\": 3}, {\"theta\": 14.634146341463413, \"color\": 4}, {\"theta\": 14.634146341463413, \"color\": 5}, {\"theta\": 12.195121951219512, \"color\": 6}, {\"theta\": 2.4390243902439024, \"color\": 7}], \"data-d3bda7d5bdb9ed04ec6e72c1a5573494\": [{\"theta\": 9.090909090909092, \"color\": 0}, {\"theta\": 14.545454545454545, \"color\": 1}, {\"theta\": 14.545454545454545, \"color\": 2}, {\"theta\": 20.0, \"color\": 3}, {\"theta\": 14.545454545454545, \"color\": 4}, {\"theta\": 0.0, \"color\": 5}, {\"theta\": 7.2727272727272725, \"color\": 6}, {\"theta\": 20.0, \"color\": 7}], \"data-19e2e20d1b8278c10448c2e347e94949\": [{\"theta\": 10.0, \"color\": 0}, {\"theta\": 5.0, \"color\": 1}, {\"theta\": 25.0, \"color\": 2}, {\"theta\": 15.0, \"color\": 3}, {\"theta\": 20.0, \"color\": 4}, {\"theta\": 5.0, \"color\": 5}, {\"theta\": 5.0, \"color\": 6}, {\"theta\": 15.0, \"color\": 7}], \"data-7ac9d2c585496ff622b2b8f0ce4370dd\": [{\"theta\": 0.0, \"color\": 0}, {\"theta\": 0.0, \"color\": 1}, {\"theta\": 0.0, \"color\": 2}, {\"theta\": 50.0, \"color\": 3}, {\"theta\": 0.0, \"color\": 4}, {\"theta\": 0.0, \"color\": 5}, {\"theta\": 0.0, \"color\": 6}, {\"theta\": 50.0, \"color\": 7}]}}, {\"mode\": \"vega-lite\"});\n",
       "</script>"
      ],
      "text/plain": [
       "alt.VConcatChart(...)"
      ]
     },
     "execution_count": 186,
     "metadata": {},
     "output_type": "execute_result"
    }
   ],
   "source": [
    "alt.vconcat(*[alt.hconcat(*charts[i:i+3]) for i in range(0, len(charts), 3)])"
   ]
  }
 ],
 "metadata": {
  "kernelspec": {
   "display_name": "MEATOLD",
   "language": "python",
   "name": "python3"
  },
  "language_info": {
   "codemirror_mode": {
    "name": "ipython",
    "version": 3
   },
   "file_extension": ".py",
   "mimetype": "text/x-python",
   "name": "python",
   "nbconvert_exporter": "python",
   "pygments_lexer": "ipython3",
   "version": "3.10.13"
  }
 },
 "nbformat": 4,
 "nbformat_minor": 2
}
